{
  "nbformat": 4,
  "nbformat_minor": 0,
  "metadata": {
    "colab": {
      "provenance": [],
      "include_colab_link": true
    },
    "kernelspec": {
      "name": "python3",
      "display_name": "Python 3"
    },
    "language_info": {
      "name": "python"
    }
  },
  "cells": [
    {
      "cell_type": "markdown",
      "metadata": {
        "id": "view-in-github",
        "colab_type": "text"
      },
      "source": [
        "<a href=\"https://colab.research.google.com/github/ragyeongyoon/langchain-playground/blob/main/4_Embedding_OpenAI%2C_GenAI%2C_HuggingFace.ipynb\" target=\"_parent\"><img src=\"https://colab.research.google.com/assets/colab-badge.svg\" alt=\"Open In Colab\"/></a>"
      ]
    },
    {
      "cell_type": "markdown",
      "source": [
        "#1. 필수 패키지 설치\n",
        "- langchain\n",
        "- dotenv\n",
        "- https://python.langchain.com/docs/concepts/embedding_models/\n",
        "- https://python.langchain.com/docs/integrations/text_embedding/"
      ],
      "metadata": {
        "id": "g0OiWaHjGpkH"
      }
    },
    {
      "cell_type": "code",
      "source": [
        "!pip install -qU langchain\n",
        "!pip install -qU python-dotenv"
      ],
      "metadata": {
        "id": "jCs061L5NA9K"
      },
      "execution_count": null,
      "outputs": []
    },
    {
      "cell_type": "markdown",
      "source": [
        "# 2. OpenAI\n",
        "- https://python.langchain.com/api_reference/openai/embeddings/langchain_openai.embeddings.base.OpenAIEmbeddings.html\n",
        "- https://platform.openai.com/docs/models#embeddings"
      ],
      "metadata": {
        "id": "Wr5ofb5vx21D"
      }
    },
    {
      "cell_type": "code",
      "source": [
        "!pip install -qU langchain_openai"
      ],
      "metadata": {
        "id": "TShhemTgRjXP"
      },
      "execution_count": null,
      "outputs": []
    },
    {
      "cell_type": "code",
      "source": [
        "import os\n",
        "from google.colab import userdata\n",
        "\n",
        "user_secret_name = 'KU_OPENAI_API_KEY'\n",
        "api_key_value = userdata.get(user_secret_name)\n",
        "\n",
        "# Colab Secrets에 'KU_OPENAI_API_KEY'라는 이름으로 저장된 키를 불러옵니다.\n",
        "# 불러온 키를 현재 세션의 환경 변수로 직접 설정합니다.\n",
        "os.environ['OPENAI_API_KEY'] = api_key_value"
      ],
      "metadata": {
        "id": "_HGESWJQzA5f"
      },
      "execution_count": null,
      "outputs": []
    },
    {
      "cell_type": "markdown",
      "source": [
        "## Code Cell 7, 8: 텍스트 임베딩하기\n",
        "\n",
        "1. 기본 모델로 임베딩\n",
        "\n",
        "* .embed_query(): '텍스트'를 입력받아 임베딩 벡터를 반환\n",
        "* print(embedding[:3]): 반환된 벡터의 첫 3개 값만 출력"
      ],
      "metadata": {
        "id": "parViISiGKZu"
      }
    },
    {
      "cell_type": "code",
      "source": [
        "from langchain_openai import OpenAIEmbeddings\n",
        "\n",
        "embeddings_model = OpenAIEmbeddings()\n",
        "embedding = embeddings_model.embed_query('Hello world')\n",
        "print(embedding[:3])"
      ],
      "metadata": {
        "id": "eeXeCpmexwX6"
      },
      "execution_count": null,
      "outputs": []
    },
    {
      "cell_type": "markdown",
      "source": [
        "2.. 다른 모델 지정하여 임베딩 (model='text-embedding-3-small')\n",
        "> 모델이 달라지면 같은 텍스트라도 결과 벡터가 달라진다."
      ],
      "metadata": {
        "id": "sLuuJClgGSn4"
      }
    },
    {
      "cell_type": "code",
      "source": [
        "embeddings_model = OpenAIEmbeddings(model='text-embedding-3-small')\n",
        "embedding = embeddings_model.embed_query('Hello world')\n",
        "print(embedding[:3])"
      ],
      "metadata": {
        "id": "5-Wq0NBzx2Fr"
      },
      "execution_count": null,
      "outputs": []
    },
    {
      "cell_type": "markdown",
      "source": [
        "---\n",
        "**Code Cell 9 ~ 21: 임베딩 벡터와 유사도 계산**\n",
        "임베딩된 벡터들 간의 관계를 수학적으로 계산하는 과정.\n",
        "\n",
        "* **embedding**: 임베딩의 핵심은 텍스트의 의미를 벡터 공간의 방향과 위치로 표현하는 것이다. 두 벡터가 서로 가까이 있거나 같은 방향을 가리키면, 원본 텍스트의 의미도 서로 유사하다고 볼 수 있다. 이 '유사성'을 측정하는 대표적인 방법이 코사인 유사도(Cosine Similarity)이다.\n",
        "\n",
        "* **코사인 유사도 (Cosine Similarity)**: 두 벡터가 얼마나 비슷한 방향을 가리키는지를 측정하는 방법\n",
        "\n",
        "  Cosine Similarity=∥A∥∥B∥A⋅B​=∑i=1n​Ai2​​∑i=1n​Bi2​​∑i=1n​Ai​Bi​​\n",
        "  * 두 벡터 사이의 각도를 이용해 유사도를 측정한다.\n",
        "  * -1부터 1 사이의 값을 가지며, 1에 가까울수록 의미가 유사하다\n",
        "  * 코드에서는 v @ v.T 라는 행렬 곱셈으로 모든 벡터 쌍 간의 유사도를 한 번에 계산\n",
        "\n",
        "> 결과 행렬을 보면, '안녕'과 '안녕하세요'의 유사도(0.826)가 '안녕'과 '잘가'의 유사도(0.380)보다 훨씬 높은 것을 볼 수 있다. 즉, 모델이 두 단어의 의미적 유사성을 잘 파악한 것이다.\n",
        "\n",
        "\n"
      ],
      "metadata": {
        "id": "UBYbFS7NGpax"
      }
    },
    {
      "cell_type": "markdown",
      "source": [
        "**임베딩**\n",
        "\n",
        "* embed_documents(): 여러 개의 텍스트(리스트 형태)를 한 번에 숫자 벡터로 변환(임베딩)한다.\n",
        "\n",
        "**OpenAI의 text-embedding-3-small 모델**\n",
        "* OpenAI의 text-embedding-3-small 같은 최신 모델들은 결과 벡터의 **크기(Norm)**가 항상 1이 되도록 **정규화(Normalization)**된 상태로 반환한다.\n",
        "* 코사인 유사도를 계산하는 수식에서 분모인 $|A|$와 $|B|$가 모두 1이 되므로, 코사인 유사도는 단순히 두 벡터의 **내적(Dot Product)**과 같아진다.\n",
        " * Cosine Similarity=A⋅B\n"
      ],
      "metadata": {
        "id": "25qjuzG2JgwR"
      }
    },
    {
      "cell_type": "code",
      "source": [
        "embeddings_model = OpenAIEmbeddings(model='text-embedding-3-small')\n",
        "embeddings = embeddings_model.embed_documents([\n",
        "    '안녕',\n",
        "    '안녕하세요',\n",
        "    '잘가',\n",
        "    '다음에 봐'\n",
        "])"
      ],
      "metadata": {
        "id": "fiEk5jBK0HDK"
      },
      "execution_count": null,
      "outputs": []
    },
    {
      "cell_type": "markdown",
      "source": [
        "**Numpy**: 임베딩 결과(숫자 리스트)를 행렬 계산에 용이한 Numpy 배열로 변환"
      ],
      "metadata": {
        "id": "IUe7JFsNJIV5"
      }
    },
    {
      "cell_type": "code",
      "source": [
        "import numpy as np"
      ],
      "metadata": {
        "id": "HcsICgRv1FwW"
      },
      "execution_count": null,
      "outputs": []
    },
    {
      "cell_type": "code",
      "source": [
        "v = np.array(embeddings)\n",
        "v[0], v[1], v[0].shape\n"
      ],
      "metadata": {
        "id": "OSdaWjeXSyY8"
      },
      "execution_count": null,
      "outputs": []
    },
    {
      "cell_type": "markdown",
      "source": [
        "코사인 유사도 행렬 계산"
      ],
      "metadata": {
        "id": "RHy3FI_AJ8hO"
      }
    },
    {
      "cell_type": "code",
      "source": [
        "innerproduct = 0.0\n",
        "\n",
        "for i in range(v.shape[-1]):\n",
        "    innerproduct += v[0,i]*v[1,i]\n",
        "\n",
        "innerproduct"
      ],
      "metadata": {
        "id": "2R8Ql75w2mT_"
      },
      "execution_count": null,
      "outputs": []
    },
    {
      "cell_type": "markdown",
      "source": [
        "v @ v.T 는 벡터 내적(dot product)을 의미합니다."
      ],
      "metadata": {
        "id": "9Z7_-BteJ69f"
      }
    },
    {
      "cell_type": "code",
      "source": [
        "v[0]@v[1]"
      ],
      "metadata": {
        "id": "0qwespho24dz"
      },
      "execution_count": null,
      "outputs": []
    },
    {
      "cell_type": "code",
      "source": [
        "np.linalg.norm(v[0])"
      ],
      "metadata": {
        "id": "053GUgya27Z2"
      },
      "execution_count": null,
      "outputs": []
    },
    {
      "cell_type": "code",
      "source": [
        "np.linalg.norm(v[0]-v[1])"
      ],
      "metadata": {
        "id": "H5xzwh0R2_cd"
      },
      "execution_count": null,
      "outputs": []
    },
    {
      "cell_type": "code",
      "source": [
        "v[0]@v[1]/(np.linalg.norm(v[0])*np.linalg.norm(v[1]))"
      ],
      "metadata": {
        "id": "XqIxdOPK3CXx"
      },
      "execution_count": null,
      "outputs": []
    },
    {
      "cell_type": "code",
      "source": [
        "v@v.T"
      ],
      "metadata": {
        "id": "x-snWlI93ITA"
      },
      "execution_count": null,
      "outputs": []
    },
    {
      "cell_type": "code",
      "source": [
        "for i in range(v.shape[0]):\n",
        "    print(np.linalg.norm(v-v[i], axis=1))"
      ],
      "metadata": {
        "id": "gi2oYSaQ3LQ0"
      },
      "execution_count": null,
      "outputs": []
    },
    {
      "cell_type": "code",
      "source": [
        "v@v.T/(np.linalg.norm(v, axis=1)*np.linalg.norm(v.T, axis=0))"
      ],
      "metadata": {
        "id": "MqDEepap1IX4"
      },
      "execution_count": null,
      "outputs": []
    },
    {
      "cell_type": "code",
      "source": [
        "q = np.array(embedding)\n",
        "v@q, np.argsort(v@q)[::-1]"
      ],
      "metadata": {
        "id": "U9AKffJf1V2t"
      },
      "execution_count": null,
      "outputs": []
    },
    {
      "cell_type": "markdown",
      "source": [
        "scikit-learn 라이브러리로 코사인 유사도 계산"
      ],
      "metadata": {
        "id": "dTSZY7BjJPp1"
      }
    },
    {
      "cell_type": "code",
      "source": [
        "from sklearn.metrics.pairwise import cosine_similarity\n",
        "\n",
        "cosine_similarity(v, [q])"
      ],
      "metadata": {
        "id": "mW95_fp_8Il9"
      },
      "execution_count": null,
      "outputs": []
    },
    {
      "cell_type": "markdown",
      "source": [
        "# 3. Google GenAI\n",
        "- https://python.langchain.com/docs/integrations/text_embedding/google_generative_ai/\n",
        "- https://ai.google.dev/gemini-api/docs/models?hl=ko#gemini-embedding\n",
        "\n",
        "**Google의 gemini-embedding-001 모델을 사용**\n",
        "\n",
        "> GoogleGenerativeAIEmbeddings 클래스를 사용한다는 점 외에는 OpenAI 예제와 구조가 같습니다. model 이름만 models/embedding-001로 지정해주면 됩니다. 결과 유사도 행렬을 보면 역시 '안녕'과 '안녕하세요'의 유사도(0.967)가 매우 높게 나타납니다.\n",
        "\n",
        "\n",
        "\n"
      ],
      "metadata": {
        "id": "7Ciewe4N5bec"
      }
    },
    {
      "cell_type": "code",
      "source": [
        "!pip install -qU langchain_google_genai"
      ],
      "metadata": {
        "id": "OrotSBZ041PB"
      },
      "execution_count": null,
      "outputs": []
    },
    {
      "cell_type": "code",
      "source": [
        "import os\n",
        "from google.colab import userdata\n",
        "\n",
        "os.environ['GOOGLE_API_KEY'] = userdata.get('GOOGLE_API_KEY')"
      ],
      "metadata": {
        "id": "q52VhkFf59JQ"
      },
      "execution_count": null,
      "outputs": []
    },
    {
      "cell_type": "markdown",
      "source": [
        "**Code Cell 26 ~ 30: 임베딩 및 유사도 계산**\n",
        "\n",
        "embeddings_model = GoogleGenerativeAIEmbeddings(model='models/embedding-001')"
      ],
      "metadata": {
        "id": "j6zWK6z2Kj5Q"
      }
    },
    {
      "cell_type": "code",
      "source": [
        "from langchain_google_genai import GoogleGenerativeAIEmbeddings\n",
        "\n",
        "embeddings_model = GoogleGenerativeAIEmbeddings(model='gemini-embedding-001')\n",
        "embedding = embeddings_model.embed_query('Hello world')\n",
        "print(embedding[:3])"
      ],
      "metadata": {
        "id": "3roRpAS26WnL"
      },
      "execution_count": null,
      "outputs": []
    },
    {
      "cell_type": "markdown",
      "source": [
        "여러 문서 임베딩"
      ],
      "metadata": {
        "id": "1Y5vR9hcKtds"
      }
    },
    {
      "cell_type": "code",
      "source": [
        "embeddings = embeddings_model.embed_documents([\n",
        "    '안녕',\n",
        "    '안녕하세요',\n",
        "    '잘가',\n",
        "    '다음에 봐'\n",
        "])"
      ],
      "metadata": {
        "id": "sBC0RFsJ7gyj"
      },
      "execution_count": null,
      "outputs": []
    },
    {
      "cell_type": "markdown",
      "source": [
        "코사인 유사도 계산 (벡터 크기가 1로 정규화되어 있으므로 내적이 곧 유사도)\n",
        "\n",
        "* OpenAI의 최신 임베딩 모델은 벡터의 크기(norm)가 1로 정규화되어 있어,\n",
        "내적 값이 곧 코사인 유사도와 같습니다."
      ],
      "metadata": {
        "id": "jCDBIlZVKxP6"
      }
    },
    {
      "cell_type": "code",
      "source": [
        "q = np.array(embedding)\n",
        "v@q, np.argsort(v@q)[::-1]"
      ],
      "metadata": {
        "id": "SRGEcowH7tAe"
      },
      "execution_count": null,
      "outputs": []
    },
    {
      "cell_type": "code",
      "source": [
        "cosine_similarity(v, [q])"
      ],
      "metadata": {
        "id": "armHRw9D8mWN"
      },
      "execution_count": null,
      "outputs": []
    },
    {
      "cell_type": "markdown",
      "source": [
        "# 4. HuggingFace\n",
        "- https://python.langchain.com/docs/integrations/text_embedding/huggingfacehub/\n",
        "- https://huggingface.co/models?pipeline_tag=sentence-similarity&library=sentence-transformers&language=ko&sort=downloads\n",
        "- https://python.langchain.com/api_reference/huggingface/embeddings/langchain_huggingface.embeddings.huggingface_endpoint.HuggingFaceEndpointEmbeddings.html\n",
        "\n",
        "**HuggingFace에 공개된 다양한 오픈소스 모델을 사용**"
      ],
      "metadata": {
        "id": "JxUfW5778v59"
      }
    },
    {
      "cell_type": "markdown",
      "source": [
        "* langchain_huggingface: HuggingFace 연동 패키지\n",
        "* sentence_transformers: 문장 임베딩에 특화된 모델들을 쉽게 사용할 수 있게 해주는 라이브러리"
      ],
      "metadata": {
        "id": "E53WjH6mLM7W"
      }
    },
    {
      "cell_type": "code",
      "source": [
        "!pip install -qU langchain_huggingface\n",
        "!pip install -qU sentence_transformers"
      ],
      "metadata": {
        "id": "rZZWH6mY8uvZ"
      },
      "execution_count": null,
      "outputs": []
    },
    {
      "cell_type": "code",
      "source": [
        "import os\n",
        "from google.colab import userdata\n",
        "\n",
        "os.environ['HUGGINGFACEHUB_API_TOKEN'] = userdata.get('HUGGINGFACEHUB_API_TOKEN')"
      ],
      "metadata": {
        "id": "0XV6lTOp9HnN"
      },
      "execution_count": null,
      "outputs": []
    },
    {
      "cell_type": "markdown",
      "source": [
        "HuggingFace 모델로 임베딩"
      ],
      "metadata": {
        "id": "nvTFnCAnLTFc"
      }
    },
    {
      "cell_type": "code",
      "source": [
        "from langchain_huggingface.embeddings import HuggingFaceEmbeddings\n",
        "\n",
        "embeddings_model = HuggingFaceEmbeddings(model='sentence-transformers/all-MiniLM-l6-v2')\n",
        "embedding = embeddings_model.embed_query('Hello world')\n",
        "print(embedding[:3])"
      ],
      "metadata": {
        "id": "42fYrF_y9LpN"
      },
      "execution_count": null,
      "outputs": []
    },
    {
      "cell_type": "code",
      "source": [
        "from langchain_huggingface.embeddings import HuggingFaceEndpointEmbeddings\n",
        "\n",
        "embeddings_model = HuggingFaceEndpointEmbeddings(model='intfloat/multilingual-e5-large', task='feature-extraction')\n",
        "embedding = embeddings_model.embed_query('Hello world')\n",
        "print(embedding[:3])"
      ],
      "metadata": {
        "id": "hrITudc9Eu_F"
      },
      "execution_count": null,
      "outputs": []
    },
    {
      "cell_type": "code",
      "source": [
        "from google.colab import drive\n",
        "drive.mount('/content/drive')"
      ],
      "metadata": {
        "id": "4PmGc3YwJda8"
      },
      "execution_count": null,
      "outputs": []
    },
    {
      "cell_type": "code",
      "source": [
        "embeddings = embeddings_model.embed_documents([\n",
        "    '안녕',\n",
        "    '안녕하세요',\n",
        "    '잘가',\n",
        "    '다음에 봐'\n",
        "])"
      ],
      "metadata": {
        "id": "rCjV7STvFRFD"
      },
      "execution_count": null,
      "outputs": []
    },
    {
      "cell_type": "code",
      "source": [
        "v = np.array(embeddings)\n",
        "v@v.T/(np.linalg.norm(v, axis=1)*np.linalg.norm(v.T, axis=0))"
      ],
      "metadata": {
        "id": "yndjrpauF6U6"
      },
      "execution_count": null,
      "outputs": []
    },
    {
      "cell_type": "code",
      "source": [
        "q = np.array(embedding)\n",
        "v@q, np.argsort(v@q)[::-1]"
      ],
      "metadata": {
        "id": "cUWDFbkiGqxq"
      },
      "execution_count": null,
      "outputs": []
    },
    {
      "cell_type": "code",
      "source": [
        "cosine_similarity(v, [q])"
      ],
      "metadata": {
        "id": "RDA71XVpGtA9"
      },
      "execution_count": null,
      "outputs": []
    }
  ]
}
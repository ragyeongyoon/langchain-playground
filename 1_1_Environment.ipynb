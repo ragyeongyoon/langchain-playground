{
  "nbformat": 4,
  "nbformat_minor": 0,
  "metadata": {
    "colab": {
      "provenance": [],
      "include_colab_link": true
    },
    "kernelspec": {
      "name": "python3",
      "display_name": "Python 3"
    },
    "language_info": {
      "name": "python"
    }
  },
  "cells": [
    {
      "cell_type": "markdown",
      "metadata": {
        "id": "view-in-github",
        "colab_type": "text"
      },
      "source": [
        "<a href=\"https://colab.research.google.com/github/ragyeongyoon/langchain-playground/blob/main/1_1_Environment.ipynb\" target=\"_parent\"><img src=\"https://colab.research.google.com/assets/colab-badge.svg\" alt=\"Open In Colab\"/></a>"
      ]
    },
    {
      "cell_type": "markdown",
      "source": [
        "1. 필수패키지 설치\n",
        "- langchain"
      ],
      "metadata": {
        "id": "dhDaqiBzUp5y"
      }
    },
    {
      "cell_type": "code",
      "source": [
        "!pip install -qU langchain"
      ],
      "metadata": {
        "id": "fd2-sRvxUpZH"
      },
      "execution_count": 1,
      "outputs": []
    },
    {
      "cell_type": "markdown",
      "source": [
        "2. OpenAI 설정\n",
        "- langchain_openai\n",
        "- https://platform.openai.com/settings/organization/api-keys\n",
        "- https://python.langchain.com/api_reference/openai/index.html"
      ],
      "metadata": {
        "id": "9uJIcKCUV5SQ"
      }
    },
    {
      "cell_type": "code",
      "source": [
        "!pip install -qU langchain_openai"
      ],
      "metadata": {
        "id": "7GV8eR3hVnPO"
      },
      "execution_count": 2,
      "outputs": []
    },
    {
      "cell_type": "markdown",
      "source": [
        "3. Google GenAI 설정\n",
        "- langchain_google_genai\n",
        "- https://aistudio.google.com/app/apikey\n",
        "- https://python.langchain.com/api_reference/google_genai/index.html"
      ],
      "metadata": {
        "id": "2ilkqfrWW-EM"
      }
    },
    {
      "cell_type": "code",
      "source": [
        "!pip install -qU langchain_google_genai"
      ],
      "metadata": {
        "id": "zv20exIpW9DF"
      },
      "execution_count": 3,
      "outputs": []
    },
    {
      "cell_type": "markdown",
      "source": [
        "4. HuggingFace 설정\n",
        "- langchain_huggingface\n",
        "- https://huggingface.co/settings/tokens\n",
        "- https://python.langchain.com/api_reference/huggingface/index.html"
      ],
      "metadata": {
        "id": "lKf8YB5ZXzlB"
      }
    },
    {
      "cell_type": "code",
      "source": [
        "!pip install -qU langchain_huggingface"
      ],
      "metadata": {
        "id": "AYP0qtdIYhSi"
      },
      "execution_count": 4,
      "outputs": []
    },
    {
      "cell_type": "markdown",
      "source": [
        "5. 환경변수 설정\n",
        "- dotenv\n",
        "- os"
      ],
      "metadata": {
        "id": "Xy4GKsoqV9LO"
      }
    },
    {
      "cell_type": "code",
      "source": [
        "!pip install -qU python-dotenv"
      ],
      "metadata": {
        "id": "QZPzihPlWORQ"
      },
      "execution_count": 5,
      "outputs": []
    },
    {
      "cell_type": "code",
      "source": [
        "%%writefile .env\n",
        "OPENAI_API_KEY=\"openai-api-key\"\n",
        "GOOGLE_API_KEY=\"genai-api-key\"\n",
        "HUGGINGFACEHUB_API_TOKEN=\"huggingface-token\""
      ],
      "metadata": {
        "colab": {
          "base_uri": "https://localhost:8080/"
        },
        "id": "kRtRWEVwWRwr",
        "outputId": "6e0dde3a-db65-4cca-a3fd-d19740a77dcf"
      },
      "execution_count": 6,
      "outputs": [
        {
          "output_type": "stream",
          "name": "stdout",
          "text": [
            "Overwriting .env\n"
          ]
        }
      ]
    },
    {
      "cell_type": "code",
      "source": [
        "from dotenv import load_dotenv\n",
        "load_dotenv()"
      ],
      "metadata": {
        "colab": {
          "base_uri": "https://localhost:8080/"
        },
        "id": "FqB7RRhwV-xz",
        "outputId": "0160a188-9269-4e4f-f3e7-51ee6c04dd09"
      },
      "execution_count": 7,
      "outputs": [
        {
          "output_type": "execute_result",
          "data": {
            "text/plain": [
              "True"
            ]
          },
          "metadata": {},
          "execution_count": 7
        }
      ]
    },
    {
      "cell_type": "code",
      "source": [
        "import os\n",
        "os.getenv('OPENAI_API_KEY'), os.environ['OPENAI_API_KEY'], os.environ['GOOGLE_API_KEY'], os.environ['HUGGINGFACEHUB_API_TOKEN']"
      ],
      "metadata": {
        "id": "awLCjOa-c5A_",
        "colab": {
          "base_uri": "https://localhost:8080/"
        },
        "outputId": "27b68fa0-f9cc-444e-9798-e7466552f7cf"
      },
      "execution_count": 8,
      "outputs": [
        {
          "output_type": "execute_result",
          "data": {
            "text/plain": [
              "('openai-api-key', 'openai-api-key', 'genai-api-key', 'huggingface-token')"
            ]
          },
          "metadata": {},
          "execution_count": 8
        }
      ]
    }
  ]
}